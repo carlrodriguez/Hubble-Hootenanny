{
 "cells": [
  {
   "cell_type": "code",
   "execution_count": 3,
   "metadata": {},
   "outputs": [],
   "source": [
    "import numpy as np\n",
    "from src import waveforms as wf, fisher_matrix as fm, detectors as det\n",
    "import lalsimulation as ls\n",
    "from astropy.cosmology import Planck15 as cosmo\n",
    "from scipy.interpolate import interp1d"
   ]
  },
  {
   "cell_type": "code",
   "execution_count": 14,
   "metadata": {},
   "outputs": [],
   "source": [
    "## First the source properties\n",
    "m1,m2 = 30,20\n",
    "z = 0.6\n",
    "\n",
    "## Then the detector properties\n",
    "psd = det.load_detector_psd(detector='LIGO_Design')\n",
    "fraction_detectable = det.load_cumulative_fraction(network='HLV')\n",
    "snr_threshold = 8\n",
    "\n",
    "## Set binary properties for waveform generator\n",
    "mtot = m1+m2\n",
    "q = np.maximum(m1,m2)/np.minimum(m1,m2) ## NOTE: q > 1\n",
    "dist = cosmo.luminosity_distance(z).value\n",
    "\n",
    "## Wrapper for waveform generator\n",
    "hp,hx,freqs = wf.hp_hx_inspiral(mtot,q,dist,approx=ls.IMRPhenomD,df=0.1)\n",
    "\n",
    "## Compute optimal SNR and fraction of sources above threshold\n",
    "snr = fm.compute_SNR(hp,freqs,psd)\n",
    "detectable = fraction_detectable(snr_threshold/snr)\n",
    "\n",
    "## finally compute the weight, multiplying the fraction of detectable sources\n",
    "## by dV/dz at redshift z, divided by 1+z (merger rate at source vs detector)\n",
    "weight = detectable*cosmo.differential_comoving_volume(z).value*4*np.pi/(1+z)"
   ]
  }
 ],
 "metadata": {
  "kernelspec": {
   "display_name": "Python 3",
   "language": "python",
   "name": "python3"
  },
  "language_info": {
   "codemirror_mode": {
    "name": "ipython",
    "version": 3
   },
   "file_extension": ".py",
   "mimetype": "text/x-python",
   "name": "python",
   "nbconvert_exporter": "python",
   "pygments_lexer": "ipython3",
   "version": "3.7.4"
  }
 },
 "nbformat": 4,
 "nbformat_minor": 2
}
