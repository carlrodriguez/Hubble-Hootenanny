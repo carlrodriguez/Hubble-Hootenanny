{
 "cells": [
  {
   "cell_type": "code",
   "execution_count": 1,
   "metadata": {},
   "outputs": [
    {
     "name": "stdout",
     "output_type": "stream",
     "text": [
      "Populating the interactive namespace from numpy and matplotlib\n"
     ]
    }
   ],
   "source": [
    "%pylab inline\n",
    "import numpy as np\n",
    "from numpy.linalg import inv\n",
    "from src import fisher_matrix as fm, waveforms as wf, detectors as det, kicks as ki\n",
    "from importlib import reload\n",
    "from astropy.cosmology import Planck15 as co\n",
    "from astropy import constants as c, units as u\n",
    "from scipy.stats import norm as normal"
   ]
  },
  {
   "cell_type": "code",
   "execution_count": 2,
   "metadata": {},
   "outputs": [],
   "source": [
    "psd_interp = det.load_detector_psd('LIGO_Early')"
   ]
  },
  {
   "cell_type": "code",
   "execution_count": 3,
   "metadata": {},
   "outputs": [],
   "source": [
    "m1, m2 = 35,30\n",
    "mtotal = m1+m2\n",
    "q = maximum(m1,m2)/minimum(m1,m2)\n",
    "\n",
    "a1,a2 = 0.9, 0.9\n",
    "\n",
    "s1x,s1y,s1z = 0,a1*sin(0.9),a1*cos(0.9)\n",
    "s2x,s2y,s2z = 0,-a2*sin(0.9),a2*cos(0.9)\n",
    "\n",
    "chi_p = (m1*s1z+m2*s2z)/mtotal\n",
    "chi_m = (m1*s1z-m2*s2z)/mtotal\n",
    "\n",
    "inclination = 0.1\n",
    "dist = 500\n",
    "phi0 = 0\n",
    "\n",
    "theta = 0.1\n",
    "phi = 0.1\n",
    "psi = 0\n",
    "\n",
    "params_to_diff = ['mtotal','q','chi_p','chi_m','s1x','s1y','s2x','s2y','inclination',\n",
    "                  'phi0','dist','psi']\n",
    "params_values = [mtotal,q,chi_p,chi_m,s1x,s1y,s2x,s2y,inclination,phi0,dist,psi]\n",
    "derivatives = [0.1,0.05,0.025,0.025,0.025,0.025,0.025,0.025,0.05,0.05,10,0.05]\n",
    "\n",
    "params = dict(zip(params_to_diff,params_values))\n",
    "derivs = dict(zip(params_to_diff,derivatives))\n",
    "\n",
    "params['fmin'] = 5\n",
    "params['fmax'] = 100\n",
    "params['df'] = 0.1"
   ]
  },
  {
   "cell_type": "code",
   "execution_count": 4,
   "metadata": {},
   "outputs": [],
   "source": [
    "params_to_diff = ['mtotal','q','chi_p','chi_m','s1x','s1y','s2x','s2y','phi0',\n",
    "                  'inclination','dist']\n",
    "\n",
    "fisher_matrix = fm.fisher_matrix(wf.h_inspiral,params_to_diff,params,derivs,psd_interp)\n",
    "cov_matrix = inv(fisher_matrix)\n",
    "errors = dict(zip(params_to_diff,np.sqrt(np.diag(cov_matrix))))"
   ]
  },
  {
   "cell_type": "code",
   "execution_count": 5,
   "metadata": {},
   "outputs": [
    {
     "data": {
      "text/plain": [
       "{'mtotal': 1.6685879631490772,\n",
       " 'q': 0.17942798726488163,\n",
       " 'chi_p': 0.168826576257682,\n",
       " 'chi_m': 1.087297666867965,\n",
       " 's1x': 18.13026387875369,\n",
       " 's1y': 1.305278056588167,\n",
       " 's2x': 19.92353831706559,\n",
       " 's2y': 1.3141360391060444,\n",
       " 'phi0': 12.15833109044007,\n",
       " 'inclination': 2.3812431308993496,\n",
       " 'dist': 157.21118525578535}"
      ]
     },
     "execution_count": 5,
     "metadata": {},
     "output_type": "execute_result"
    }
   ],
   "source": [
    "errors"
   ]
  },
  {
   "cell_type": "code",
   "execution_count": null,
   "metadata": {},
   "outputs": [],
   "source": []
  }
 ],
 "metadata": {
  "kernelspec": {
   "display_name": "Python 3",
   "language": "python",
   "name": "python3"
  },
  "language_info": {
   "codemirror_mode": {
    "name": "ipython",
    "version": 3
   },
   "file_extension": ".py",
   "mimetype": "text/x-python",
   "name": "python",
   "nbconvert_exporter": "python",
   "pygments_lexer": "ipython3",
   "version": "3.7.4"
  }
 },
 "nbformat": 4,
 "nbformat_minor": 2
}
